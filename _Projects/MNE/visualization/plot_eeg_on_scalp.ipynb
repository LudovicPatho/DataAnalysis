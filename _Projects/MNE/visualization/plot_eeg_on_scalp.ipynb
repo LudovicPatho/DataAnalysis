{
  "nbformat_minor": 0, 
  "nbformat": 4, 
  "cells": [
    {
      "execution_count": null, 
      "cell_type": "code", 
      "source": [
        "%matplotlib inline"
      ], 
      "outputs": [], 
      "metadata": {
        "collapsed": false
      }
    }, 
    {
      "source": [
        "\n# Plotting EEG sensors on the scalp\n\n\nIn this example, digitized EEG sensor locations are shown on the scalp.\n\n"
      ], 
      "cell_type": "markdown", 
      "metadata": {}
    }, 
    {
      "execution_count": null, 
      "cell_type": "code", 
      "source": [
        "# Author: Eric Larson <larson.eric.d@gmail.com>\n#\n# License: BSD (3-clause)\n\nimport mne\nfrom mne.viz import plot_alignment\nfrom mayavi import mlab\n\nprint(__doc__)\n\ndata_path = mne.datasets.sample.data_path()\nsubjects_dir = data_path + '/subjects'\ntrans = mne.read_trans(data_path + '/MEG/sample/sample_audvis_raw-trans.fif')\nraw = mne.io.read_raw_fif(data_path + '/MEG/sample/sample_audvis_raw.fif')\nfig = plot_alignment(raw.info, trans, subject='sample', dig=False,\n                     eeg=['original', 'projected'], meg=[],\n                     coord_frame='head', subjects_dir=subjects_dir)\nmlab.view(135, 80)"
      ], 
      "outputs": [], 
      "metadata": {
        "collapsed": false
      }
    }
  ], 
  "metadata": {
    "kernelspec": {
      "display_name": "Python 2", 
      "name": "python2", 
      "language": "python"
    }, 
    "language_info": {
      "mimetype": "text/x-python", 
      "nbconvert_exporter": "python", 
      "name": "python", 
      "file_extension": ".py", 
      "version": "2.7.14", 
      "pygments_lexer": "ipython2", 
      "codemirror_mode": {
        "version": 2, 
        "name": "ipython"
      }
    }
  }
}