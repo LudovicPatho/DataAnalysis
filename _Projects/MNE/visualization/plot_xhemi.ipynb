{
  "nbformat_minor": 0, 
  "nbformat": 4, 
  "cells": [
    {
      "execution_count": null, 
      "cell_type": "code", 
      "source": [
        "%matplotlib inline"
      ], 
      "outputs": [], 
      "metadata": {
        "collapsed": false
      }
    }, 
    {
      "source": [
        "\n# Cross-hemisphere comparison\n\n\nThis example illustrates how to visualize the difference between activity in\nthe left and the right hemisphere. The data from the right hemisphere is\nmapped to the left hemisphere, and then the difference is plotted. For more\ninformation see :func:`mne.compute_morph_matrix`.\n\n"
      ], 
      "cell_type": "markdown", 
      "metadata": {}
    }, 
    {
      "execution_count": null, 
      "cell_type": "code", 
      "source": [
        "# Author: Christian Brodbeck <christianbrodbeck@nyu.edu>\n#\n# License: BSD (3-clause)\n\nimport mne\n\n\ndata_dir = mne.datasets.sample.data_path()\nsubjects_dir = data_dir + '/subjects'\nstc_path = data_dir + '/MEG/sample/sample_audvis-meg-eeg'\n\nstc = mne.read_source_estimate(stc_path, 'sample')\n\n# First, morph the data to fsaverage_sym, for which we have left_right\n# registrations:\nstc = stc.morph('fsaverage_sym', subjects_dir=subjects_dir, smooth=5)\n\n# Compute a morph-matrix mapping the right to the left hemisphere. Use the\n# vertices parameters to determine source and target hemisphere:\nmm = mne.compute_morph_matrix(\n    'fsaverage_sym', 'fsaverage_sym', xhemi=True,  # cross-hemisphere morphing\n    vertices_from=[[], stc.vertices[1]],  # from the right hemisphere\n    vertices_to=[stc.vertices[0], []],  # to the left hemisphere\n    subjects_dir=subjects_dir)\n\n# SourceEstimate on the left hemisphere:\nstc_lh = mne.SourceEstimate(stc.lh_data, [stc.vertices[0], []], stc.tmin,\n                            stc.tstep, stc.subject)\n# SourceEstimate of the right hemisphere, morphed to the left:\nstc_rh_on_lh = mne.SourceEstimate(mm * stc.rh_data, [stc.vertices[0], []],\n                                  stc.tmin, stc.tstep, stc.subject)\n# Since both STCs are now on the same hemisphere we can subtract them:\ndiff = stc_lh - stc_rh_on_lh\n\ndiff.plot(hemi='lh', subjects_dir=subjects_dir, initial_time=0.07,\n          size=(800, 600))"
      ], 
      "outputs": [], 
      "metadata": {
        "collapsed": false
      }
    }
  ], 
  "metadata": {
    "kernelspec": {
      "display_name": "Python 2", 
      "name": "python2", 
      "language": "python"
    }, 
    "language_info": {
      "mimetype": "text/x-python", 
      "nbconvert_exporter": "python", 
      "name": "python", 
      "file_extension": ".py", 
      "version": "2.7.14", 
      "pygments_lexer": "ipython2", 
      "codemirror_mode": {
        "version": 2, 
        "name": "ipython"
      }
    }
  }
}