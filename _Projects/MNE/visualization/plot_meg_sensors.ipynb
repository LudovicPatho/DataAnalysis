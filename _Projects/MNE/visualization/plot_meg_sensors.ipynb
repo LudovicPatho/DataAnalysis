{
  "nbformat_minor": 0, 
  "nbformat": 4, 
  "cells": [
    {
      "execution_count": null, 
      "cell_type": "code", 
      "source": [
        "%matplotlib inline"
      ], 
      "outputs": [], 
      "metadata": {
        "collapsed": false
      }
    }, 
    {
      "source": [
        "\n# Plotting sensor layouts of MEG systems\n\n\nIn this example, sensor layouts of different MEG systems\nare shown.\n\n"
      ], 
      "cell_type": "markdown", 
      "metadata": {}
    }, 
    {
      "execution_count": null, 
      "cell_type": "code", 
      "source": [
        "# Author: Eric Larson <larson.eric.d@gmail.com>\n#\n# License: BSD (3-clause)\n\nimport os.path as op\n\nfrom mayavi import mlab\n\nimport mne\nfrom mne.io import read_raw_fif, read_raw_ctf, read_raw_bti, read_raw_kit\nfrom mne.io import read_raw_artemis123\nfrom mne.datasets import sample, spm_face, testing\nfrom mne.viz import plot_alignment\n\nprint(__doc__)\n\nbti_path = op.abspath(op.dirname(mne.__file__)) + '/io/bti/tests/data/'\nkit_path = op.abspath(op.dirname(mne.__file__)) + '/io/kit/tests/data/'\nraws = dict(\n    Neuromag=read_raw_fif(sample.data_path() +\n                          '/MEG/sample/sample_audvis_raw.fif'),\n    CTF_275=read_raw_ctf(spm_face.data_path() +\n                         '/MEG/spm/SPM_CTF_MEG_example_faces1_3D.ds'),\n    Magnes_3600wh=read_raw_bti(op.join(bti_path, 'test_pdf_linux'),\n                               op.join(bti_path, 'test_config_linux'),\n                               op.join(bti_path, 'test_hs_linux')),\n    KIT=read_raw_kit(op.join(kit_path, 'test.sqd')),\n    Artemis123=read_raw_artemis123(op.join(\n        testing.data_path(), 'ARTEMIS123',\n        'Artemis_Data_2017-04-14-10h-38m-59s_Phantom_1k_HPI_1s.bin'))\n)\n\nfor system, raw in raws.items():\n    meg = ['helmet', 'sensors']\n    # We don't have coil definitions for KIT refs, so exclude them\n    if system != 'KIT':\n        meg.append('ref')\n    fig = plot_alignment(raw.info, trans=None, dig=False, eeg=False,\n                         surfaces=[], meg=meg, coord_frame='meg')\n    text = mlab.title(system)\n    text.x_position = 0.5\n    text.y_position = 0.95\n    text.property.vertical_justification = 'top'\n    text.property.justification = 'center'\n    text.actor.text_scale_mode = 'none'\n    text.property.bold = True\n    mlab.draw(fig)"
      ], 
      "outputs": [], 
      "metadata": {
        "collapsed": false
      }
    }
  ], 
  "metadata": {
    "kernelspec": {
      "display_name": "Python 2", 
      "name": "python2", 
      "language": "python"
    }, 
    "language_info": {
      "mimetype": "text/x-python", 
      "nbconvert_exporter": "python", 
      "name": "python", 
      "file_extension": ".py", 
      "version": "2.7.14", 
      "pygments_lexer": "ipython2", 
      "codemirror_mode": {
        "version": 2, 
        "name": "ipython"
      }
    }
  }
}