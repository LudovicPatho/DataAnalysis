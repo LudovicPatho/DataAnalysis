{
  "nbformat_minor": 0, 
  "nbformat": 4, 
  "cells": [
    {
      "execution_count": null, 
      "cell_type": "code", 
      "source": [
        "%matplotlib inline"
      ], 
      "outputs": [], 
      "metadata": {
        "collapsed": false
      }
    }, 
    {
      "source": [
        "\n# Plot a cortical parcellation\n\n\nIn this example, we download the HCP-MMP1.0 parcellation [1]_ and show it\non fsaverage.\n\n<div class=\"alert alert-info\"><h4>Note</h4><p>The HCP-MMP dataset has license terms restricting its use.\n          Of particular relevance:\n\n              \"I will acknowledge the use of WU-Minn HCP data and data\n              derived from WU-Minn HCP data when publicly presenting any\n              results or algorithms that benefitted from their use.\"</p></div>\n\nReferences\n----------\n.. [1] Glasser MF et al. (2016) A multi-modal parcellation of human\n       cerebral cortex. Nature 536:171-178.\n\n"
      ], 
      "cell_type": "markdown", 
      "metadata": {}
    }, 
    {
      "execution_count": null, 
      "cell_type": "code", 
      "source": [
        "# Author: Eric Larson <larson.eric.d@gmail.com>\n#\n# License: BSD (3-clause)\n\nfrom surfer import Brain\n\nimport mne\n\nsubjects_dir = mne.datasets.sample.data_path() + '/subjects'\nmne.datasets.fetch_hcp_mmp_parcellation(subjects_dir=subjects_dir,\n                                        verbose=True)\nlabels = mne.read_labels_from_annot(\n    'fsaverage', 'HCPMMP1', 'lh', subjects_dir=subjects_dir)\n\nbrain = Brain('fsaverage', 'lh', 'inflated', subjects_dir=subjects_dir,\n              cortex='low_contrast', background='white', size=(800, 600))\nbrain.add_annotation('HCPMMP1')\naud_label = [label for label in labels if label.name == 'L_A1_ROI-lh'][0]\nbrain.add_label(aud_label, borders=False)"
      ], 
      "outputs": [], 
      "metadata": {
        "collapsed": false
      }
    }, 
    {
      "source": [
        "We can also plot a combined set of labels (23 per hemisphere).\n\n"
      ], 
      "cell_type": "markdown", 
      "metadata": {}
    }, 
    {
      "execution_count": null, 
      "cell_type": "code", 
      "source": [
        "brain = Brain('fsaverage', 'lh', 'inflated', subjects_dir=subjects_dir,\n              cortex='low_contrast', background='white', size=(800, 600))\nbrain.add_annotation('HCPMMP1_combined')"
      ], 
      "outputs": [], 
      "metadata": {
        "collapsed": false
      }
    }
  ], 
  "metadata": {
    "kernelspec": {
      "display_name": "Python 2", 
      "name": "python2", 
      "language": "python"
    }, 
    "language_info": {
      "mimetype": "text/x-python", 
      "nbconvert_exporter": "python", 
      "name": "python", 
      "file_extension": ".py", 
      "version": "2.7.14", 
      "pygments_lexer": "ipython2", 
      "codemirror_mode": {
        "version": 2, 
        "name": "ipython"
      }
    }
  }
}