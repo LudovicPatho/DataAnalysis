{
  "nbformat_minor": 0, 
  "nbformat": 4, 
  "cells": [
    {
      "execution_count": null, 
      "cell_type": "code", 
      "source": [
        "%matplotlib inline"
      ], 
      "outputs": [], 
      "metadata": {
        "collapsed": false
      }
    }, 
    {
      "source": [
        "\n======================================\nGetting averaging info from .fif files\n======================================\n\nParse averaging information defined in Elekta Vectorview/TRIUX DACQ (data\nacquisition). Extract and average epochs accordingly. Modify some\naveraging parameters and get epochs.\n\n"
      ], 
      "cell_type": "markdown", 
      "metadata": {}
    }, 
    {
      "execution_count": null, 
      "cell_type": "code", 
      "source": [
        "# Author: Jussi Nurminen (jnu@iki.fi)\n#\n# License: BSD (3-clause)\n\n\nimport mne\nimport os\nfrom mne.datasets import multimodal\n\nfname_raw = os.path.join(multimodal.data_path(), 'multimodal_raw.fif')\n\n\nprint(__doc__)"
      ], 
      "outputs": [], 
      "metadata": {
        "collapsed": false
      }
    }, 
    {
      "source": [
        "Read raw file\n\n"
      ], 
      "cell_type": "markdown", 
      "metadata": {}
    }, 
    {
      "execution_count": null, 
      "cell_type": "code", 
      "source": [
        "raw = mne.io.read_raw_fif(fname_raw)"
      ], 
      "outputs": [], 
      "metadata": {
        "collapsed": false
      }
    }, 
    {
      "source": [
        "Check DACQ defined averaging categories and other info\n\n"
      ], 
      "cell_type": "markdown", 
      "metadata": {}
    }, 
    {
      "execution_count": null, 
      "cell_type": "code", 
      "source": [
        "print(raw.acqparser)"
      ], 
      "outputs": [], 
      "metadata": {
        "collapsed": false
      }
    }, 
    {
      "source": [
        "Extract epochs corresponding to a category\n\n"
      ], 
      "cell_type": "markdown", 
      "metadata": {}
    }, 
    {
      "execution_count": null, 
      "cell_type": "code", 
      "source": [
        "cond = raw.acqparser.get_condition(raw, 'Auditory right')\nepochs = mne.Epochs(raw, **cond)\nepochs.average().plot_topo(background_color='w')"
      ], 
      "outputs": [], 
      "metadata": {
        "collapsed": false
      }
    }, 
    {
      "source": [
        "Get epochs from all conditions, average\n\n"
      ], 
      "cell_type": "markdown", 
      "metadata": {}
    }, 
    {
      "execution_count": null, 
      "cell_type": "code", 
      "source": [
        "evokeds = []\nfor cat in raw.acqparser.categories:\n    cond = raw.acqparser.get_condition(raw, cat)\n    # copy (supported) rejection parameters from DACQ settings\n    epochs = mne.Epochs(raw, reject=raw.acqparser.reject,\n                        flat=raw.acqparser.flat, **cond)\n    evoked = epochs.average()\n    evoked.comment = cat['comment']\n    evokeds.append(evoked)\n# save all averages to an evoked fiff file\n# fname_out = 'multimodal-ave.fif'\n# mne.write_evokeds(fname_out, evokeds)"
      ], 
      "outputs": [], 
      "metadata": {
        "collapsed": false
      }
    }, 
    {
      "source": [
        "Make a new averaging category\n\n"
      ], 
      "cell_type": "markdown", 
      "metadata": {}
    }, 
    {
      "execution_count": null, 
      "cell_type": "code", 
      "source": [
        "newcat = dict()\nnewcat['comment'] = 'Visual lower left, longer epochs'\nnewcat['event'] = 3  # reference event\nnewcat['start'] = -.2  # epoch start rel. to ref. event (in seconds)\nnewcat['end'] = .7  # epoch end\nnewcat['reqevent'] = 0  # additional required event; 0 if none\nnewcat['reqwithin'] = .5  # ...required within .5 sec (before or after)\nnewcat['reqwhen'] = 2  # ...required before (1) or after (2) ref. event\nnewcat['index'] = 9  # can be set freely\n\ncond = raw.acqparser.get_condition(raw, newcat)\nepochs = mne.Epochs(raw, reject=raw.acqparser.reject,\n                    flat=raw.acqparser.flat, **cond)\nepochs.average().plot()"
      ], 
      "outputs": [], 
      "metadata": {
        "collapsed": false
      }
    }
  ], 
  "metadata": {
    "kernelspec": {
      "display_name": "Python 2", 
      "name": "python2", 
      "language": "python"
    }, 
    "language_info": {
      "mimetype": "text/x-python", 
      "nbconvert_exporter": "python", 
      "name": "python", 
      "file_extension": ".py", 
      "version": "2.7.14", 
      "pygments_lexer": "ipython2", 
      "codemirror_mode": {
        "version": 2, 
        "name": "ipython"
      }
    }
  }
}