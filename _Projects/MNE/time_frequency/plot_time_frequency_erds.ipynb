{
  "nbformat_minor": 0, 
  "nbformat": 4, 
  "cells": [
    {
      "execution_count": null, 
      "cell_type": "code", 
      "source": [
        "%matplotlib inline"
      ], 
      "outputs": [], 
      "metadata": {
        "collapsed": false
      }
    }, 
    {
      "source": [
        "\n# Compute and visualize ERDS maps\n\n\nThis example calculates and displays ERDS maps of event-related EEG data. ERDS\n(sometimes also written as ERD/ERS) is short for event-related\ndesynchronization (ERD) and event-related synchronization (ERS) [1]_.\nConceptually, ERD corresponds to a decrease in power in a specific frequency\nband relative to a baseline. Similarly, ERS corresponds to an increase in\npower. An ERDS map is a time/frequency representation of ERD/ERS over a range\nof frequencies [2]_. ERDS maps are also known as ERSP (event-related spectral\nperturbation) [3]_.\n\nWe use a public EEG BCI data set containing two different motor imagery tasks\navailable at PhysioNet. The two tasks are imagined hand and feet movement. Our\ngoal is to generate ERDS maps for each of the two tasks.\n\nFirst, we load the data and create epochs of 5s length. The data sets contain\nmultiple channels, but we will only consider the three channels C3, Cz, and C4.\nWe compute maps containing frequencies ranging from 2 to 35Hz. We map ERD to\nred color and ERS to blue color, which is the convention in many ERDS\npublications. Note that we do not perform any significance tests on the map\nvalues, but instead we display the whole time/frequency maps.\n\nReferences\n----------\n\n.. [1] G. Pfurtscheller, F. H. Lopes da Silva. Event-related EEG/MEG\n       synchronization and desynchronization: basic principles. Clinical\n       Neurophysiology 110(11), 1842-1857, 1999.\n.. [2] B. Graimann, J. E. Huggins, S. P. Levine, G. Pfurtscheller.\n       Visualization of significant ERD/ERS patterns in multichannel EEG and\n       ECoG data. Clinical Neurophysiology 113(1), 43-47, 2002.\n.. [3] S. Makeig. Auditory event-related dynamics of the EEG spectrum and\n       effects of exposure to tones. Electroencephalography and Clinical\n       Neurophysiology 86(4), 283-293, 1993.\n\n"
      ], 
      "cell_type": "markdown", 
      "metadata": {}
    }, 
    {
      "execution_count": null, 
      "cell_type": "code", 
      "source": [
        "# Authors: Clemens Brunner <clemens.brunner@gmail.com>\n#\n# License: BSD (3-clause)\n\n\nimport numpy as np\nimport matplotlib.pyplot as plt\nfrom matplotlib.colors import LinearSegmentedColormap\nimport mne\nfrom mne.datasets import eegbci\nfrom mne.io import concatenate_raws, read_raw_edf\nfrom mne.time_frequency import tfr_multitaper\n\n\ndef center_cmap(cmap, vmin, vmax):\n    \"\"\"Center given colormap (ranging from vmin to vmax) at value 0.\n\n    Note that eventually this could also be achieved by re-normalizing a given\n    colormap by subclassing matplotlib.colors.Normalize as described here:\n    https://matplotlib.org/users/colormapnorms.html#custom-normalization-two-linear-ranges\n    \"\"\"  # noqa: E501\n    vzero = abs(vmin) / (vmax - vmin)\n    index_old = np.linspace(0, 1, cmap.N)\n    index_new = np.hstack([np.linspace(0, vzero, cmap.N // 2, endpoint=False),\n                           np.linspace(vzero, 1, cmap.N // 2)])\n    cdict = {\"red\": [], \"green\": [], \"blue\": [], \"alpha\": []}\n    for old, new in zip(index_old, index_new):\n        r, g, b, a = cmap(old)\n        cdict[\"red\"].append((new, r, r))\n        cdict[\"green\"].append((new, g, g))\n        cdict[\"blue\"].append((new, b, b))\n        cdict[\"alpha\"].append((new, a, a))\n    return LinearSegmentedColormap(\"erds\", cdict)\n\n\n# load and preprocess data ####################################################\nsubject = 1  # use data from subject 1\nruns = [6, 10, 14]  # use only hand and feet motor imagery runs\n\nfnames = eegbci.load_data(subject, runs)\nraws = [read_raw_edf(f, preload=True, stim_channel='auto') for f in fnames]\nraw = concatenate_raws(raws)\n\nraw.rename_channels(lambda x: x.strip('.'))  # remove dots from channel names\n\nevents = mne.find_events(raw, shortest_event=0, stim_channel='STI 014')\n\npicks = mne.pick_channels(raw.info[\"ch_names\"], [\"C3\", \"Cz\", \"C4\"])\n\n# epoch data ##################################################################\ntmin, tmax = -1, 4  # define epochs around events (in s)\nevent_ids = dict(hands=2, feet=3)  # map event IDs to tasks\n\nepochs = mne.Epochs(raw, events, event_ids, tmin - 0.5, tmax + 0.5,\n                    picks=picks, baseline=None, preload=True)\n\n# compute ERDS maps ###########################################################\nfreqs = np.arange(2, 36, 1)  # frequencies from 2-35Hz\nn_cycles = freqs  # use constant t/f resolution\nvmin, vmax = -1, 1.5  # set min and max ERDS values in plot\ncmap = center_cmap(plt.cm.RdBu, vmin, vmax)  # zero maps to white\n\nfor event in event_ids:\n    power = tfr_multitaper(epochs[event], freqs=freqs, n_cycles=n_cycles,\n                           use_fft=True, return_itc=False, decim=2)\n    power.crop(tmin, tmax)\n\n    fig, ax = plt.subplots(1, 4, figsize=(12, 4),\n                           gridspec_kw={\"width_ratios\": [10, 10, 10, 1]})\n    for i in range(3):\n        power.plot([i], baseline=[-1, 0], mode=\"percent\", vmin=vmin, vmax=vmax,\n                   cmap=(cmap, False), axes=ax[i], colorbar=False, show=False)\n        ax[i].set_title(epochs.ch_names[i], fontsize=10)\n        ax[i].axvline(0, linewidth=1, color=\"black\", linestyle=\":\")  # event\n        if i > 0:\n            ax[i].set_ylabel(\"\")\n            ax[i].set_yticklabels(\"\")\n    fig.colorbar(ax[0].collections[0], cax=ax[-1])\n    fig.suptitle(\"ERDS ({})\".format(event))\n    fig.show()"
      ], 
      "outputs": [], 
      "metadata": {
        "collapsed": false
      }
    }
  ], 
  "metadata": {
    "kernelspec": {
      "display_name": "Python 2", 
      "name": "python2", 
      "language": "python"
    }, 
    "language_info": {
      "mimetype": "text/x-python", 
      "nbconvert_exporter": "python", 
      "name": "python", 
      "file_extension": ".py", 
      "version": "2.7.14", 
      "pygments_lexer": "ipython2", 
      "codemirror_mode": {
        "version": 2, 
        "name": "ipython"
      }
    }
  }
}