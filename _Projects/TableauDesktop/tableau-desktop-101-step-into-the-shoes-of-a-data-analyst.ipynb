{
 "cells": [
  {
   "cell_type": "markdown",
   "metadata": {},
   "source": [
    "# data.world\n",
    "## Tableau Desktop 101: Step into the Shoes of a Data Analyst"
   ]
  },
  {
   "cell_type": "markdown",
   "metadata": {},
   "source": [
    "> #### Setup  \n",
    "\n",
    "> Before running data.world notebooks for the first time, you'll need to:  \n",
    "1. Install data.world's Python package, including optional `pandas` dependencies: \n",
    "```shell\n",
    "pip install git+git://github.com/datadotworld/data.world-py.git#egg=project[pandas]\n",
    "```\n",
    "1. Obtain an API access token at https://data.world/settings/advanced\n",
    "1. Store API access token using the `dw` command-line tool: \n",
    "```shell\n",
    "dw configure\n",
    "```\n",
    "\n",
    "> Once your environment is set up, these steps do not need to be repeated for other data.world notebooks."
   ]
  },
  {
   "cell_type": "code",
   "execution_count": 1,
   "metadata": {
    "collapsed": true
   },
   "outputs": [],
   "source": [
    "import datadotworld as dw"
   ]
  },
  {
   "cell_type": "code",
   "execution_count": 2,
   "metadata": {
    "collapsed": true
   },
   "outputs": [],
   "source": [
    "# Datasets are referenced by their path\n",
    "dataset_key = 'tableauhelp/tableau-desktop-101-step-into-the-shoes-of-a-data-analyst'\n",
    "\n",
    "# Or simply by their URL\n",
    "dataset_key = 'https://data.world/tableauhelp/tableau-desktop-101-step-into-the-shoes-of-a-data-analyst'"
   ]
  },
  {
   "cell_type": "code",
   "execution_count": 3,
   "metadata": {},
   "outputs": [],
   "source": [
    "# Load dataset (onto the local file system)\n",
    "dataset_local = dw.load_dataset(dataset_key)  # cached under ~/.dw/cache"
   ]
  },
  {
   "cell_type": "code",
   "execution_count": 4,
   "metadata": {},
   "outputs": [
    {
     "data": {
      "text/plain": [
       "{'description': 'Guide, tutorial & exercises for learning basics of business data analysis & visualization with Tableau & data.world\\n\\n_**TableauHelp** is a full spectrum data consulting and technology company. As an official Tableau partner, we provide customizable data movement, integration, consolidation, modeling, and analytics, along with certified Tableau training and server installation._\\n\\n--------------\\n\\n# Tableau Desktop 101: Step into the Shoes of a Data Analyst\\n\\n# Data Visualization Challenge\\n\\nTableau is a powerful data visualization software that enables users to get connected and visualizing data *quickly*. For a general overview of the product, please visit [Tableau Desktop Overview](https://www.tableau.com/products/desktop). The purpose of this lesson is to familiarize new users with the Tableau environment and begin visual data analysis through an immersive use case. This is by no means an exhaustive list of Tableau functionality, but by learning the skills below, you will be ready to start visually analyzing data!\\n\\n\\n----------\\n## Use Case\\n\\nIt is January of 2016 and the CEO of Superstore is looking to bolster business for the upcoming year. The finance team has noticed that there were some profit problems for particular inventory categories during 2015. You have been tasked with figuring out which item(s) have had profit problems multiple years in a row (both net and year over year), where the problems are happening, and *why*. Visualize this data so that multiple teams (leadership, sales, finance, marketing, and manufacturers) can view the results and understand the data quickly. \\n\\n\\n## Your Task:\\n- Connect to and analyze Superstoreâ€™s data sets from 2012-2015\\n- Create a variety of views to explore the data while calling out insights along the way\\n- Analyze business profits\\n- Discover where and why profit loss is happening\\n- Summarize the data on a visual dashboard to submit to the company\\n\\n\\n## You Will Learn:\\n- How to connect to data on **data.world** using the web data connector\\n- Join tables in Tableau\\n- General Tableau vocabulary and tips\\n- Data Visualization\\n- Run Table Calculations\\n- Highlighters, Filters, Formatting, Hierarchies, Aggregations\\n- Geocoding (mapping data)\\n- How to create various visuals using Tabeau\\n- General data analytical skills\\n- Dashboarding\\n- Publishing\\n\\n\\n----------\\n&nbsp;  \\n&nbsp;  \\n\\n# [**Click to Get Started!**](https://data.world/tableauhelp/tableau-desktop-101-step-into-the-shoes-of-a-data-analyst/workspace/file?filename=01_lets_get_started.md)',\n",
       " 'homepage': 'https://data.world/tableauhelp/tableau-desktop-101-step-into-the-shoes-of-a-data-analyst',\n",
       " 'keywords': ['tableau',\n",
       "  'tutorial',\n",
       "  'exercise',\n",
       "  'data science',\n",
       "  'visualization',\n",
       "  'exercises',\n",
       "  'superstore',\n",
       "  'guide'],\n",
       " 'name': 'tableauhelp_tableau-desktop-101-step-into-the-shoes-of-a-data-analyst',\n",
       " 'resources': [{'bytes': 2724,\n",
       "   'format': 'md',\n",
       "   'mediatype': 'text/plain',\n",
       "   'name': 'original/01_lets_get_started.md',\n",
       "   'path': 'original/01_lets_get_started.md'},\n",
       "  {'bytes': 6003,\n",
       "   'format': 'md',\n",
       "   'mediatype': 'text/plain',\n",
       "   'name': 'original/02_tableau_terms.md',\n",
       "   'path': 'original/02_tableau_terms.md'},\n",
       "  {'bytes': 3114,\n",
       "   'format': 'md',\n",
       "   'mediatype': 'text/plain',\n",
       "   'name': 'original/03_ready_click_viz.md',\n",
       "   'path': 'original/03_ready_click_viz.md'},\n",
       "  {'bytes': 6253,\n",
       "   'format': 'md',\n",
       "   'mediatype': 'text/plain',\n",
       "   'name': 'original/04_what_profit_problems.md',\n",
       "   'path': 'original/04_what_profit_problems.md'},\n",
       "  {'bytes': 5955,\n",
       "   'format': 'md',\n",
       "   'mediatype': 'text/plain',\n",
       "   'name': 'original/05_where_in_the_world.md',\n",
       "   'path': 'original/05_where_in_the_world.md'},\n",
       "  {'bytes': 3962,\n",
       "   'format': 'md',\n",
       "   'mediatype': 'text/plain',\n",
       "   'name': 'original/06_why_we_are_here.md',\n",
       "   'path': 'original/06_why_we_are_here.md'},\n",
       "  {'bytes': 8013,\n",
       "   'format': 'md',\n",
       "   'mediatype': 'text/plain',\n",
       "   'name': 'original/07_final_dashboard.md',\n",
       "   'path': 'original/07_final_dashboard.md'},\n",
       "  {'bytes': 34731,\n",
       "   'format': 'md',\n",
       "   'mediatype': 'text/plain',\n",
       "   'name': 'original/data.world_TableauHelp_Tableau101.md',\n",
       "   'path': 'original/data.world_TableauHelp_Tableau101.md'}],\n",
       " 'title': 'Tableau Desktop 101: Step into the Shoes of a Data Analyst'}"
      ]
     },
     "execution_count": 4,
     "metadata": {},
     "output_type": "execute_result"
    }
   ],
   "source": [
    "# See what is in it\n",
    "dataset_local.describe()"
   ]
  },
  {
   "cell_type": "markdown",
   "metadata": {},
   "source": [
    "# Next steps\n",
    "\n",
    "- Run `help()` to learn more ways to access and use your data. Try:\n",
    "  - `help(dw.load_dataset)`\n",
    "  - `help(dw.query)`\n",
    "- Learn more at: https://github.com/datadotworld/data.world-py and https://docs.data.world"
   ]
  },
  {
   "cell_type": "code",
   "execution_count": 5,
   "metadata": {},
   "outputs": [
    {
     "name": "stdout",
     "output_type": "stream",
     "text": [
      "Help on function load_dataset in module datadotworld:\n",
      "\n",
      "load_dataset(dataset_key, force_update=False, profile='default')\n",
      "    Load a dataset from the local filesystem, downloading it from data.world\n",
      "    first, if necessary.\n",
      "    \n",
      "    This function returns an object of type `LocalDataset`. The object\n",
      "    allows access to metedata via it's `describe()` method and to all the data\n",
      "    via three properties `raw_data`, `tables` and `dataframes`, all of which\n",
      "    are mappings (dict-like structures).\n",
      "    \n",
      "    \n",
      "    Parameters\n",
      "    ----------\n",
      "    dataset_key : str\n",
      "        Dataset identifier, in the form of owner/id or of a url\n",
      "    force_update : bool\n",
      "        Flag, indicating if a new copy of the dataset should be downloaded\n",
      "        replacing any previously downloaded copy\n",
      "    profile : str, optional\n",
      "        Configuration profile (account) to use.\n",
      "    \n",
      "    Returns\n",
      "    -------\n",
      "    LocalDataset\n",
      "        The object representing the dataset\n",
      "    \n",
      "    Raises\n",
      "    ------\n",
      "    RestApiError\n",
      "        If a server error occurs\n",
      "    \n",
      "    Examples\n",
      "    --------\n",
      "    >>> import datadotworld as dw\n",
      "    >>> dataset = dw.load_dataset('jonloyens/an-intro-to-dataworld-dataset')\n",
      "    >>> list(dataset.dataframes)\n",
      "    ['changelog', 'datadotworldbballstats', 'datadotworldbballteam']\n",
      "\n"
     ]
    }
   ],
   "source": [
    "help(dw.load_dataset)"
   ]
  },
  {
   "cell_type": "code",
   "execution_count": null,
   "metadata": {
    "collapsed": true
   },
   "outputs": [],
   "source": []
  }
 ],
 "metadata": {
  "kernelspec": {
   "display_name": "Python 3",
   "language": "python",
   "name": "python3"
  },
  "language_info": {
   "codemirror_mode": {
    "name": "ipython",
    "version": 3
   },
   "file_extension": ".py",
   "mimetype": "text/x-python",
   "name": "python",
   "nbconvert_exporter": "python",
   "pygments_lexer": "ipython3",
   "version": "3.6.2"
  }
 },
 "nbformat": 4,
 "nbformat_minor": 2
}
