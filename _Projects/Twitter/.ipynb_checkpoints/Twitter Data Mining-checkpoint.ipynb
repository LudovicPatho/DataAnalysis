{
 "cells": [
  {
   "cell_type": "markdown",
   "metadata": {},
   "source": [
    "# Twitter Data Mining"
   ]
  },
  {
   "cell_type": "markdown",
   "metadata": {},
   "source": [
    "In this project, we'll go over the following topics:\n",
    "- Collecting data from Twitter\n",
    "- Text pre-processing using NLTK\n",
    "- Analysing term frequencies\n",
    "- Data Visualization\n",
    "- Sentiment Analysis\n",
    "\n",
    "This project was made by learning from this (great) blog [post](https://marcobonzanini.com/2015/03/02/mining-twitter-data-with-python-part-1/)."
   ]
  },
  {
   "cell_type": "markdown",
   "metadata": {},
   "source": [
    "## Collecting data"
   ]
  },
  {
   "cell_type": "markdown",
   "metadata": {},
   "source": [
    "In order to authorise our app to access Twitter on our behalf, we need to use the OAuth interface:"
   ]
  },
  {
   "cell_type": "code",
   "execution_count": 1,
   "metadata": {
    "collapsed": true
   },
   "outputs": [],
   "source": [
    "import tweepy\n",
    "from tweepy import OAuthHandler\n",
    "\n",
    "import os\n",
    "consumer_key = os.environ['CONSUMER_KEY']\n",
    "consumer_secret = os.environ['CONSUMER_SECRET']\n",
    "access_token = os.environ['ACCESS_TOKEN']\n",
    "access_secret = os.environ['ACCESS_SECRET']\n",
    " \n",
    "auth = OAuthHandler(consumer_key, consumer_secret)\n",
    "auth.set_access_token(access_token, access_secret)\n",
    " \n",
    "api = tweepy.API(auth)"
   ]
  },
  {
   "cell_type": "markdown",
   "metadata": {},
   "source": [
    "Display of the 10 tweets of the home timeline :"
   ]
  },
  {
   "cell_type": "code",
   "execution_count": 22,
   "metadata": {},
   "outputs": [
    {
     "name": "stdout",
     "output_type": "stream",
     "text": [
      "RT @HUMASCOP: #DeLaVillardiere parrain de la promo @InstitutIRIS @IRIS_SUP_  remise des diplômes https://t.co/FsXjVfZ02V\n",
      "RT @IRIS_SUP_: Remise des diplômes IRIS 2017. C’est parti! Lancée par P. Boniface et B de la Villardiere, parrain de la promo 2017... https…\n",
      "RT @HUMASCOP: @BdLVillardiere  parrain de la promo @InstitutIRIS @IRIS_SUP_  remise des diplômes https://t.co/33NEfjcNBQ\n",
      "RT @HUMASCOP: Équipe pédagogique @IRIS_SUP_ @InstitutIRIS Remise des diplômes https://t.co/4019QGEe3N\n",
      "RT @JFFiorina: Fier d’avoir remis les doubles diplômes @InstitutIRIS @IRIS_SUP_    Bravo 😀👏 @PascalBoniface #ilovegeopolitique #geopolitiqu…\n",
      "RT @carole_gomez: Gala de l @IRIS_SUP_ avec discours du @bde_iris @InstitutIRIS https://t.co/42Itj2xNyF\n",
      "📄Transfert de l’ambassade américaine à Jérusalem : un nouveau camouflet pour le droit international\n",
      "L'analyse de… https://t.co/jCOdmMUWRW\n",
      "RT @centrehl: The core team is assembled to prepare for the arrival of our #humanitarianleaders @InstitutIRIS @centrehl and the rest of the…\n",
      "RT @RMCinfo: \"En réalité, Israël est bien implanté et personne n'a les moyens de menacer son existence\" Béligh Nabli (@InstitutIRIS) #Bourd…\n",
      "RT @RMCinfo: \"En Israël, le camp de la paix est réduit à la portion congrue et le gouvernement actuel est le plus à droite de l'histoire du…\n"
     ]
    }
   ],
   "source": [
    "for status in tweepy.Cursor(api.home_timeline).items(5):\n",
    "    # Process a single status\n",
    "    print(status.text)"
   ]
  },
  {
   "cell_type": "markdown",
   "metadata": {},
   "source": [
    "Display of the JSON response :"
   ]
  },
  {
   "cell_type": "code",
   "execution_count": 19,
   "metadata": {},
   "outputs": [
    {
     "name": "stdout",
     "output_type": "stream",
     "text": [
      "{\"created_at\": \"Fri Dec 08 21:49:07 +0000 2017\", \"id\": 939250511668240385, \"id_str\": \"939250511668240385\", \"text\": \"RT @HUMASCOP: #DeLaVillardiere parrain de la promo @InstitutIRIS @IRIS_SUP_  remise des dipl\\u00f4mes https://t.co/FsXjVfZ02V\", \"truncated\": false, \"entities\": {\"hashtags\": [{\"text\": \"DeLaVillardiere\", \"indices\": [14, 30]}], \"symbols\": [], \"user_mentions\": [{\"screen_name\": \"HUMASCOP\", \"name\": \"FREEHUMANITARIAN\", \"id\": 316278379, \"id_str\": \"316278379\", \"indices\": [3, 12]}, {\"screen_name\": \"InstitutIRIS\", \"name\": \"IRIS\", \"id\": 265897069, \"id_str\": \"265897069\", \"indices\": [51, 64]}, {\"screen_name\": \"IRIS_SUP_\", \"name\": \"IRIS Sup'\", \"id\": 3151901333, \"id_str\": \"3151901333\", \"indices\": [65, 75]}], \"urls\": [], \"media\": [{\"id\": 939197098511208453, \"id_str\": \"939197098511208453\", \"indices\": [97, 120], \"media_url\": \"http://pbs.twimg.com/media/DQiyyPbWkAU6eYM.jpg\", \"media_url_https\": \"https://pbs.twimg.com/media/DQiyyPbWkAU6eYM.jpg\", \"url\": \"https://t.co/FsXjVfZ02V\", \"display_url\": \"pic.twitter.com/FsXjVfZ02V\", \"expanded_url\": \"https://twitter.com/HUMASCOP/status/939197110611783680/photo/1\", \"type\": \"photo\", \"sizes\": {\"medium\": {\"w\": 1024, \"h\": 768, \"resize\": \"fit\"}, \"small\": {\"w\": 680, \"h\": 510, \"resize\": \"fit\"}, \"thumb\": {\"w\": 150, \"h\": 150, \"resize\": \"crop\"}, \"large\": {\"w\": 1024, \"h\": 768, \"resize\": \"fit\"}}, \"source_status_id\": 939197110611783680, \"source_status_id_str\": \"939197110611783680\", \"source_user_id\": 316278379, \"source_user_id_str\": \"316278379\"}]}, \"extended_entities\": {\"media\": [{\"id\": 939197098511208453, \"id_str\": \"939197098511208453\", \"indices\": [97, 120], \"media_url\": \"http://pbs.twimg.com/media/DQiyyPbWkAU6eYM.jpg\", \"media_url_https\": \"https://pbs.twimg.com/media/DQiyyPbWkAU6eYM.jpg\", \"url\": \"https://t.co/FsXjVfZ02V\", \"display_url\": \"pic.twitter.com/FsXjVfZ02V\", \"expanded_url\": \"https://twitter.com/HUMASCOP/status/939197110611783680/photo/1\", \"type\": \"photo\", \"sizes\": {\"medium\": {\"w\": 1024, \"h\": 768, \"resize\": \"fit\"}, \"small\": {\"w\": 680, \"h\": 510, \"resize\": \"fit\"}, \"thumb\": {\"w\": 150, \"h\": 150, \"resize\": \"crop\"}, \"large\": {\"w\": 1024, \"h\": 768, \"resize\": \"fit\"}}, \"source_status_id\": 939197110611783680, \"source_status_id_str\": \"939197110611783680\", \"source_user_id\": 316278379, \"source_user_id_str\": \"316278379\"}]}, \"source\": \"<a href=\\\"http://twitter.com/download/iphone\\\" rel=\\\"nofollow\\\">Twitter for iPhone</a>\", \"in_reply_to_status_id\": null, \"in_reply_to_status_id_str\": null, \"in_reply_to_user_id\": null, \"in_reply_to_user_id_str\": null, \"in_reply_to_screen_name\": null, \"user\": {\"id\": 265897069, \"id_str\": \"265897069\", \"name\": \"IRIS\", \"screen_name\": \"InstitutIRIS\", \"location\": \"Paris\", \"description\": \"Acteur fran\\u00e7ais de la recherche strat\\u00e9gique et g\\u00e9opolitique. Ses activit\\u00e9s : la recherche, l\\u2019organisation de manifestations, la publication, la formation.\", \"url\": \"http://t.co/EctAbFIhS6\", \"entities\": {\"url\": {\"urls\": [{\"url\": \"http://t.co/EctAbFIhS6\", \"expanded_url\": \"http://iris-france.org\", \"display_url\": \"iris-france.org\", \"indices\": [0, 22]}]}, \"description\": {\"urls\": []}}, \"protected\": false, \"followers_count\": 24390, \"friends_count\": 422, \"listed_count\": 603, \"created_at\": \"Mon Mar 14 09:29:08 +0000 2011\", \"favourites_count\": 666, \"utc_offset\": 3600, \"time_zone\": \"Paris\", \"geo_enabled\": true, \"verified\": false, \"statuses_count\": 9301, \"lang\": \"fr\", \"contributors_enabled\": false, \"is_translator\": false, \"is_translation_enabled\": false, \"profile_background_color\": \"000000\", \"profile_background_image_url\": \"http://pbs.twimg.com/profile_background_images/653932185611816960/hLtX5fNH.jpg\", \"profile_background_image_url_https\": \"https://pbs.twimg.com/profile_background_images/653932185611816960/hLtX5fNH.jpg\", \"profile_background_tile\": true, \"profile_image_url\": \"http://pbs.twimg.com/profile_images/674642322999672832/PuRRfFwA_normal.jpg\", \"profile_image_url_https\": \"https://pbs.twimg.com/profile_images/674642322999672832/PuRRfFwA_normal.jpg\", \"profile_banner_url\": \"https://pbs.twimg.com/profile_banners/265897069/1512063879\", \"profile_link_color\": \"3B94D9\", \"profile_sidebar_border_color\": \"000000\", \"profile_sidebar_fill_color\": \"000000\", \"profile_text_color\": \"000000\", \"profile_use_background_image\": true, \"has_extended_profile\": true, \"default_profile\": false, \"default_profile_image\": false, \"following\": true, \"follow_request_sent\": false, \"notifications\": false, \"translator_type\": \"none\"}, \"geo\": null, \"coordinates\": null, \"place\": null, \"contributors\": null, \"retweeted_status\": {\"created_at\": \"Fri Dec 08 18:16:55 +0000 2017\", \"id\": 939197110611783680, \"id_str\": \"939197110611783680\", \"text\": \"#DeLaVillardiere parrain de la promo @InstitutIRIS @IRIS_SUP_  remise des dipl\\u00f4mes https://t.co/FsXjVfZ02V\", \"truncated\": false, \"entities\": {\"hashtags\": [{\"text\": \"DeLaVillardiere\", \"indices\": [0, 16]}], \"symbols\": [], \"user_mentions\": [{\"screen_name\": \"InstitutIRIS\", \"name\": \"IRIS\", \"id\": 265897069, \"id_str\": \"265897069\", \"indices\": [37, 50]}, {\"screen_name\": \"IRIS_SUP_\", \"name\": \"IRIS Sup'\", \"id\": 3151901333, \"id_str\": \"3151901333\", \"indices\": [51, 61]}], \"urls\": [], \"media\": [{\"id\": 939197098511208453, \"id_str\": \"939197098511208453\", \"indices\": [83, 106], \"media_url\": \"http://pbs.twimg.com/media/DQiyyPbWkAU6eYM.jpg\", \"media_url_https\": \"https://pbs.twimg.com/media/DQiyyPbWkAU6eYM.jpg\", \"url\": \"https://t.co/FsXjVfZ02V\", \"display_url\": \"pic.twitter.com/FsXjVfZ02V\", \"expanded_url\": \"https://twitter.com/HUMASCOP/status/939197110611783680/photo/1\", \"type\": \"photo\", \"sizes\": {\"medium\": {\"w\": 1024, \"h\": 768, \"resize\": \"fit\"}, \"small\": {\"w\": 680, \"h\": 510, \"resize\": \"fit\"}, \"thumb\": {\"w\": 150, \"h\": 150, \"resize\": \"crop\"}, \"large\": {\"w\": 1024, \"h\": 768, \"resize\": \"fit\"}}}]}, \"extended_entities\": {\"media\": [{\"id\": 939197098511208453, \"id_str\": \"939197098511208453\", \"indices\": [83, 106], \"media_url\": \"http://pbs.twimg.com/media/DQiyyPbWkAU6eYM.jpg\", \"media_url_https\": \"https://pbs.twimg.com/media/DQiyyPbWkAU6eYM.jpg\", \"url\": \"https://t.co/FsXjVfZ02V\", \"display_url\": \"pic.twitter.com/FsXjVfZ02V\", \"expanded_url\": \"https://twitter.com/HUMASCOP/status/939197110611783680/photo/1\", \"type\": \"photo\", \"sizes\": {\"medium\": {\"w\": 1024, \"h\": 768, \"resize\": \"fit\"}, \"small\": {\"w\": 680, \"h\": 510, \"resize\": \"fit\"}, \"thumb\": {\"w\": 150, \"h\": 150, \"resize\": \"crop\"}, \"large\": {\"w\": 1024, \"h\": 768, \"resize\": \"fit\"}}}]}, \"source\": \"<a href=\\\"http://tapbots.com/tweetbot\\\" rel=\\\"nofollow\\\">Tweetbot for i\\u039fS</a>\", \"in_reply_to_status_id\": null, \"in_reply_to_status_id_str\": null, \"in_reply_to_user_id\": null, \"in_reply_to_user_id_str\": null, \"in_reply_to_screen_name\": null, \"user\": {\"id\": 316278379, \"id_str\": \"316278379\", \"name\": \"FREEHUMANITARIAN\", \"screen_name\": \"HUMASCOP\", \"location\": \"Paris\", \"description\": \"Actualit\\u00e9s et reflets des ASI et de la presse internationale, les propos tenus n'engagent que son auteur Antoine Petibon-Klee, chercheur associ\\u00e9 \\u00e0 l'IRIS.\", \"url\": \"https://t.co/jbSJfA9LW9\", \"entities\": {\"url\": {\"urls\": [{\"url\": \"https://t.co/jbSJfA9LW9\", \"expanded_url\": \"https://fr.linkedin.com/in/abpk2009\", \"display_url\": \"fr.linkedin.com/in/abpk2009\", \"indices\": [0, 23]}]}, \"description\": {\"urls\": []}}, \"protected\": false, \"followers_count\": 419, \"friends_count\": 236, \"listed_count\": 35, \"created_at\": \"Mon Jun 13 06:21:07 +0000 2011\", \"favourites_count\": 138, \"utc_offset\": -28800, \"time_zone\": \"Pacific Time (US & Canada)\", \"geo_enabled\": false, \"verified\": false, \"statuses_count\": 3309, \"lang\": \"fr\", \"contributors_enabled\": false, \"is_translator\": false, \"is_translation_enabled\": false, \"profile_background_color\": \"C0DEED\", \"profile_background_image_url\": \"http://abs.twimg.com/images/themes/theme1/bg.png\", \"profile_background_image_url_https\": \"https://abs.twimg.com/images/themes/theme1/bg.png\", \"profile_background_tile\": false, \"profile_image_url\": \"http://pbs.twimg.com/profile_images/731981972604604416/1IWfSHFW_normal.jpg\", \"profile_image_url_https\": \"https://pbs.twimg.com/profile_images/731981972604604416/1IWfSHFW_normal.jpg\", \"profile_banner_url\": \"https://pbs.twimg.com/profile_banners/316278379/1473537757\", \"profile_link_color\": \"1DA1F2\", \"profile_sidebar_border_color\": \"C0DEED\", \"profile_sidebar_fill_color\": \"DDEEF6\", \"profile_text_color\": \"333333\", \"profile_use_background_image\": true, \"has_extended_profile\": true, \"default_profile\": true, \"default_profile_image\": false, \"following\": false, \"follow_request_sent\": false, \"notifications\": false, \"translator_type\": \"none\"}, \"geo\": null, \"coordinates\": null, \"place\": null, \"contributors\": null, \"is_quote_status\": false, \"retweet_count\": 2, \"favorite_count\": 1, \"favorited\": false, \"retweeted\": false, \"possibly_sensitive\": false, \"possibly_sensitive_appealable\": false, \"lang\": \"fr\"}, \"is_quote_status\": false, \"retweet_count\": 2, \"favorite_count\": 0, \"favorited\": false, \"retweeted\": false, \"possibly_sensitive\": false, \"possibly_sensitive_appealable\": false, \"lang\": \"fr\"}\n"
     ]
    }
   ],
   "source": [
    "import json \n",
    "    \n",
    "for status in tweepy.Cursor(api.home_timeline).items(1):\n",
    "    # Process a single status\n",
    "    print(json.dumps(status._json))"
   ]
  },
  {
   "cell_type": "markdown",
   "metadata": {},
   "source": [
    "Listing connections :"
   ]
  },
  {
   "cell_type": "code",
   "execution_count": 20,
   "metadata": {},
   "outputs": [
    {
     "name": "stdout",
     "output_type": "stream",
     "text": [
      "{\"id\": 265897069, \"id_str\": \"265897069\", \"name\": \"IRIS\", \"screen_name\": \"InstitutIRIS\", \"location\": \"Paris\", \"description\": \"Acteur fran\\u00e7ais de la recherche strat\\u00e9gique et g\\u00e9opolitique. Ses activit\\u00e9s : la recherche, l\\u2019organisation de manifestations, la publication, la formation.\", \"url\": \"http://t.co/EctAbFIhS6\", \"entities\": {\"url\": {\"urls\": [{\"url\": \"http://t.co/EctAbFIhS6\", \"expanded_url\": \"http://iris-france.org\", \"display_url\": \"iris-france.org\", \"indices\": [0, 22]}]}, \"description\": {\"urls\": []}}, \"protected\": false, \"followers_count\": 24390, \"friends_count\": 422, \"listed_count\": 603, \"created_at\": \"Mon Mar 14 09:29:08 +0000 2011\", \"favourites_count\": 666, \"utc_offset\": 3600, \"time_zone\": \"Paris\", \"geo_enabled\": true, \"verified\": false, \"statuses_count\": 9301, \"lang\": \"fr\", \"status\": {\"created_at\": \"Fri Dec 08 21:49:07 +0000 2017\", \"id\": 939250511668240385, \"id_str\": \"939250511668240385\", \"text\": \"RT @HUMASCOP: #DeLaVillardiere parrain de la promo @InstitutIRIS @IRIS_SUP_  remise des dipl\\u00f4mes https://t.co/FsXjVfZ02V\", \"truncated\": false, \"entities\": {\"hashtags\": [{\"text\": \"DeLaVillardiere\", \"indices\": [14, 30]}], \"symbols\": [], \"user_mentions\": [{\"screen_name\": \"HUMASCOP\", \"name\": \"FREEHUMANITARIAN\", \"id\": 316278379, \"id_str\": \"316278379\", \"indices\": [3, 12]}, {\"screen_name\": \"InstitutIRIS\", \"name\": \"IRIS\", \"id\": 265897069, \"id_str\": \"265897069\", \"indices\": [51, 64]}, {\"screen_name\": \"IRIS_SUP_\", \"name\": \"IRIS Sup'\", \"id\": 3151901333, \"id_str\": \"3151901333\", \"indices\": [65, 75]}], \"urls\": [], \"media\": [{\"id\": 939197098511208453, \"id_str\": \"939197098511208453\", \"indices\": [97, 120], \"media_url\": \"http://pbs.twimg.com/media/DQiyyPbWkAU6eYM.jpg\", \"media_url_https\": \"https://pbs.twimg.com/media/DQiyyPbWkAU6eYM.jpg\", \"url\": \"https://t.co/FsXjVfZ02V\", \"display_url\": \"pic.twitter.com/FsXjVfZ02V\", \"expanded_url\": \"https://twitter.com/HUMASCOP/status/939197110611783680/photo/1\", \"type\": \"photo\", \"sizes\": {\"medium\": {\"w\": 1024, \"h\": 768, \"resize\": \"fit\"}, \"small\": {\"w\": 680, \"h\": 510, \"resize\": \"fit\"}, \"thumb\": {\"w\": 150, \"h\": 150, \"resize\": \"crop\"}, \"large\": {\"w\": 1024, \"h\": 768, \"resize\": \"fit\"}}, \"source_status_id\": 939197110611783680, \"source_status_id_str\": \"939197110611783680\", \"source_user_id\": 316278379, \"source_user_id_str\": \"316278379\"}]}, \"extended_entities\": {\"media\": [{\"id\": 939197098511208453, \"id_str\": \"939197098511208453\", \"indices\": [97, 120], \"media_url\": \"http://pbs.twimg.com/media/DQiyyPbWkAU6eYM.jpg\", \"media_url_https\": \"https://pbs.twimg.com/media/DQiyyPbWkAU6eYM.jpg\", \"url\": \"https://t.co/FsXjVfZ02V\", \"display_url\": \"pic.twitter.com/FsXjVfZ02V\", \"expanded_url\": \"https://twitter.com/HUMASCOP/status/939197110611783680/photo/1\", \"type\": \"photo\", \"sizes\": {\"medium\": {\"w\": 1024, \"h\": 768, \"resize\": \"fit\"}, \"small\": {\"w\": 680, \"h\": 510, \"resize\": \"fit\"}, \"thumb\": {\"w\": 150, \"h\": 150, \"resize\": \"crop\"}, \"large\": {\"w\": 1024, \"h\": 768, \"resize\": \"fit\"}}, \"source_status_id\": 939197110611783680, \"source_status_id_str\": \"939197110611783680\", \"source_user_id\": 316278379, \"source_user_id_str\": \"316278379\"}]}, \"source\": \"<a href=\\\"http://twitter.com/download/iphone\\\" rel=\\\"nofollow\\\">Twitter for iPhone</a>\", \"in_reply_to_status_id\": null, \"in_reply_to_status_id_str\": null, \"in_reply_to_user_id\": null, \"in_reply_to_user_id_str\": null, \"in_reply_to_screen_name\": null, \"geo\": null, \"coordinates\": null, \"place\": null, \"contributors\": null, \"retweeted_status\": {\"created_at\": \"Fri Dec 08 18:16:55 +0000 2017\", \"id\": 939197110611783680, \"id_str\": \"939197110611783680\", \"text\": \"#DeLaVillardiere parrain de la promo @InstitutIRIS @IRIS_SUP_  remise des dipl\\u00f4mes https://t.co/FsXjVfZ02V\", \"truncated\": false, \"entities\": {\"hashtags\": [{\"text\": \"DeLaVillardiere\", \"indices\": [0, 16]}], \"symbols\": [], \"user_mentions\": [{\"screen_name\": \"InstitutIRIS\", \"name\": \"IRIS\", \"id\": 265897069, \"id_str\": \"265897069\", \"indices\": [37, 50]}, {\"screen_name\": \"IRIS_SUP_\", \"name\": \"IRIS Sup'\", \"id\": 3151901333, \"id_str\": \"3151901333\", \"indices\": [51, 61]}], \"urls\": [], \"media\": [{\"id\": 939197098511208453, \"id_str\": \"939197098511208453\", \"indices\": [83, 106], \"media_url\": \"http://pbs.twimg.com/media/DQiyyPbWkAU6eYM.jpg\", \"media_url_https\": \"https://pbs.twimg.com/media/DQiyyPbWkAU6eYM.jpg\", \"url\": \"https://t.co/FsXjVfZ02V\", \"display_url\": \"pic.twitter.com/FsXjVfZ02V\", \"expanded_url\": \"https://twitter.com/HUMASCOP/status/939197110611783680/photo/1\", \"type\": \"photo\", \"sizes\": {\"medium\": {\"w\": 1024, \"h\": 768, \"resize\": \"fit\"}, \"small\": {\"w\": 680, \"h\": 510, \"resize\": \"fit\"}, \"thumb\": {\"w\": 150, \"h\": 150, \"resize\": \"crop\"}, \"large\": {\"w\": 1024, \"h\": 768, \"resize\": \"fit\"}}}]}, \"extended_entities\": {\"media\": [{\"id\": 939197098511208453, \"id_str\": \"939197098511208453\", \"indices\": [83, 106], \"media_url\": \"http://pbs.twimg.com/media/DQiyyPbWkAU6eYM.jpg\", \"media_url_https\": \"https://pbs.twimg.com/media/DQiyyPbWkAU6eYM.jpg\", \"url\": \"https://t.co/FsXjVfZ02V\", \"display_url\": \"pic.twitter.com/FsXjVfZ02V\", \"expanded_url\": \"https://twitter.com/HUMASCOP/status/939197110611783680/photo/1\", \"type\": \"photo\", \"sizes\": {\"medium\": {\"w\": 1024, \"h\": 768, \"resize\": \"fit\"}, \"small\": {\"w\": 680, \"h\": 510, \"resize\": \"fit\"}, \"thumb\": {\"w\": 150, \"h\": 150, \"resize\": \"crop\"}, \"large\": {\"w\": 1024, \"h\": 768, \"resize\": \"fit\"}}}]}, \"source\": \"<a href=\\\"http://tapbots.com/tweetbot\\\" rel=\\\"nofollow\\\">Tweetbot for i\\u039fS</a>\", \"in_reply_to_status_id\": null, \"in_reply_to_status_id_str\": null, \"in_reply_to_user_id\": null, \"in_reply_to_user_id_str\": null, \"in_reply_to_screen_name\": null, \"geo\": null, \"coordinates\": null, \"place\": null, \"contributors\": null, \"is_quote_status\": false, \"retweet_count\": 2, \"favorite_count\": 1, \"favorited\": false, \"retweeted\": false, \"possibly_sensitive\": false, \"lang\": \"fr\"}, \"is_quote_status\": false, \"retweet_count\": 2, \"favorite_count\": 0, \"favorited\": false, \"retweeted\": false, \"possibly_sensitive\": false, \"lang\": \"fr\"}, \"contributors_enabled\": false, \"is_translator\": false, \"is_translation_enabled\": false, \"profile_background_color\": \"000000\", \"profile_background_image_url\": \"http://pbs.twimg.com/profile_background_images/653932185611816960/hLtX5fNH.jpg\", \"profile_background_image_url_https\": \"https://pbs.twimg.com/profile_background_images/653932185611816960/hLtX5fNH.jpg\", \"profile_background_tile\": true, \"profile_image_url\": \"http://pbs.twimg.com/profile_images/674642322999672832/PuRRfFwA_normal.jpg\", \"profile_image_url_https\": \"https://pbs.twimg.com/profile_images/674642322999672832/PuRRfFwA_normal.jpg\", \"profile_banner_url\": \"https://pbs.twimg.com/profile_banners/265897069/1512063879\", \"profile_link_color\": \"3B94D9\", \"profile_sidebar_border_color\": \"000000\", \"profile_sidebar_fill_color\": \"000000\", \"profile_text_color\": \"000000\", \"profile_use_background_image\": true, \"has_extended_profile\": true, \"default_profile\": false, \"default_profile_image\": false, \"following\": true, \"live_following\": false, \"follow_request_sent\": false, \"notifications\": false, \"muting\": false, \"blocking\": false, \"blocked_by\": false, \"translator_type\": \"none\"}\n"
     ]
    }
   ],
   "source": [
    "for friend in tweepy.Cursor(api.friends).items(1):\n",
    "    print(json.dumps(friend._json))"
   ]
  },
  {
   "cell_type": "markdown",
   "metadata": {},
   "source": [
    "Listing my own tweets :"
   ]
  },
  {
   "cell_type": "code",
   "execution_count": 21,
   "metadata": {
    "scrolled": true
   },
   "outputs": [
    {
     "name": "stdout",
     "output_type": "stream",
     "text": [
      "\"« Cool, bières et bonbons gratuits ! » : plongée dans une start-up déjantée\" #actualites #feedly https://t.co/cKWCAPZSVr\n",
      "Sun Jul 24 17:30:30 +0000 2016\n"
     ]
    }
   ],
   "source": [
    "for tweet in tweepy.Cursor(api.user_timeline).items():\n",
    "    #print(json.dumps(tweet._json))\n",
    "    print(tweet._json['text'])\n",
    "    print(tweet._json['created_at'])"
   ]
  },
  {
   "cell_type": "markdown",
   "metadata": {},
   "source": [
    "Some variables :\n",
    "- `text`: the text of the tweet itself\n",
    "- `created_at`: the date of creation\n",
    "- `favorite_count`, `retweet_count`: the number of favourites and retweets\n",
    "- `favorited`, `retweeted`: boolean stating whether the authenticated user (you) have favourited or retweeted this tweet\n",
    "- `lang`: acronym for the language (e.g. “en” for english)\n",
    "- `id`: the tweet identifier\n",
    "- `place`, `coordinates`, `geo`: geo-location information if available\n",
    "- `user`: the author’s full profile\n",
    "- `entities`: list of entities like URLs, @-mentions, hashtags and symbols\n",
    "- `in_reply_to_user_id`: user identifier if the tweet is a reply to a specific user\n",
    "- `in_reply_to_status_id`: status identifier id the tweet is a reply to a specific status"
   ]
  },
  {
   "cell_type": "markdown",
   "metadata": {},
   "source": [
    "Listing tweets from another user :"
   ]
  },
  {
   "cell_type": "code",
   "execution_count": 15,
   "metadata": {},
   "outputs": [
    {
     "name": "stdout",
     "output_type": "stream",
     "text": [
      "RT @ObamaFoundation: Watch: We hosted a Town Hall in New Delhi with @BarackObama and young leaders about how to drive change and make an im…\n",
      "Mon Dec 04 22:57:47 +0000 2017\n",
      "Michelle and I are delighted to congratulate Prince Harry and Meghan Markle on their engagement. We wish you a life… https://t.co/KC9nmjZPuX\n",
      "Mon Nov 27 21:13:50 +0000 2017\n",
      "From the Obama family to yours, we wish you a Happy Thanksgiving full of joy and gratitude. https://t.co/xAvSQwjQkz\n",
      "Thu Nov 23 14:44:27 +0000 2017\n",
      "ME:  Joe, about halfway through the speech, I’m gonna wish you a happy birth--\n",
      "BIDEN:  IT’S MY BIRTHDAY!\n",
      "ME:  Joe.… https://t.co/5qLUsDoaMi\n",
      "Mon Nov 20 19:02:11 +0000 2017\n",
      "RT @ObamaFoundation: Today, we honor those who have honored our country with its highest form of service. https://t.co/IbJNCwIofL https://t…\n",
      "Sat Nov 11 15:13:46 +0000 2017\n"
     ]
    }
   ],
   "source": [
    "for tweet in tweepy.Cursor(api.user_timeline, id='BarackObama').items(5):\n",
    "    #print(json.dumps(tweet._json))\n",
    "    print(tweet._json['text'])\n",
    "    print(tweet._json['created_at'])"
   ]
  },
  {
   "cell_type": "markdown",
   "metadata": {},
   "source": [
    "## Text pre-processing"
   ]
  },
  {
   "cell_type": "markdown",
   "metadata": {},
   "source": [
    "Text tokenization using NLTK:"
   ]
  },
  {
   "cell_type": "code",
   "execution_count": 17,
   "metadata": {},
   "outputs": [
    {
     "name": "stdout",
     "output_type": "stream",
     "text": [
      "['RT', '@', 'ObamaFoundation', ':', 'Watch', ':', 'We', 'hosted', 'a', 'Town', 'Hall', 'in', 'New', 'Delhi', 'with', '@', 'BarackObama', 'and', 'young', 'leaders', 'about', 'how', 'to', 'drive', 'change', 'and', 'make', 'an', 'im…']\n",
      "['Michelle', 'and', 'I', 'are', 'delighted', 'to', 'congratulate', 'Prince', 'Harry', 'and', 'Meghan', 'Markle', 'on', 'their', 'engagement', '.', 'We', 'wish', 'you', 'a', 'life…', 'https', ':', '//t.co/KC9nmjZPuX']\n",
      "['From', 'the', 'Obama', 'family', 'to', 'yours', ',', 'we', 'wish', 'you', 'a', 'Happy', 'Thanksgiving', 'full', 'of', 'joy', 'and', 'gratitude', '.', 'https', ':', '//t.co/xAvSQwjQkz']\n",
      "['ME', ':', 'Joe', ',', 'about', 'halfway', 'through', 'the', 'speech', ',', 'I', '’', 'm', 'gon', 'na', 'wish', 'you', 'a', 'happy', 'birth', '--', 'BIDEN', ':', 'IT', '’', 'S', 'MY', 'BIRTHDAY', '!', 'ME', ':', 'Joe.…', 'https', ':', '//t.co/5qLUsDoaMi']\n",
      "['RT', '@', 'ObamaFoundation', ':', 'Today', ',', 'we', 'honor', 'those', 'who', 'have', 'honored', 'our', 'country', 'with', 'its', 'highest', 'form', 'of', 'service', '.', 'https', ':', '//t.co/IbJNCwIofL', 'https', ':', '//t…']\n"
     ]
    }
   ],
   "source": [
    "import nltk\n",
    "from nltk.tokenize import word_tokenize\n",
    "\n",
    "for tweet in tweepy.Cursor(api.user_timeline, id='BarackObama').items(5):\n",
    "    tweet_text = tweet._json['text']\n",
    "    print(word_tokenize(tweet_text))"
   ]
  },
  {
   "cell_type": "code",
   "execution_count": 18,
   "metadata": {
    "collapsed": true
   },
   "outputs": [],
   "source": [
    "# To be continued"
   ]
  },
  {
   "cell_type": "code",
   "execution_count": null,
   "metadata": {
    "collapsed": true
   },
   "outputs": [],
   "source": []
  }
 ],
 "metadata": {
  "kernelspec": {
   "display_name": "Python 3",
   "language": "python",
   "name": "python3"
  },
  "language_info": {
   "codemirror_mode": {
    "name": "ipython",
    "version": 3
   },
   "file_extension": ".py",
   "mimetype": "text/x-python",
   "name": "python",
   "nbconvert_exporter": "python",
   "pygments_lexer": "ipython3",
   "version": "3.6.2"
  }
 },
 "nbformat": 4,
 "nbformat_minor": 2
}
