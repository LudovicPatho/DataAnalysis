{
 "cells": [
  {
   "cell_type": "markdown",
   "metadata": {},
   "source": [
    "# Managing Financial Data"
   ]
  },
  {
   "cell_type": "markdown",
   "metadata": {},
   "source": [
    "## Importing the data"
   ]
  },
  {
   "cell_type": "markdown",
   "metadata": {},
   "source": [
    "From a CSV file :"
   ]
  },
  {
   "cell_type": "code",
   "execution_count": 3,
   "metadata": {},
   "outputs": [
    {
     "name": "stdout",
     "output_type": "stream",
     "text": [
      "  Stock Symbol           Company Name  Last Sale  Market Capitalization  \\\n",
      "0         AAPL             Apple Inc.     141.05           7.400000e+11   \n",
      "1        GOOGL          Alphabet Inc.     840.18           5.810000e+11   \n",
      "2         GOOG          Alphabet Inc.     823.56           5.690000e+11   \n",
      "3         MSFT  Microsoft Corporation      64.95           5.020000e+11   \n",
      "4         AMZN       Amazon.com, Inc.     884.67           4.220000e+11   \n",
      "\n",
      "   IPO Year             Sector  \\\n",
      "0    1980.0         Technology   \n",
      "1       NaN         Technology   \n",
      "2    2004.0         Technology   \n",
      "3    1986.0         Technology   \n",
      "4    1997.0  Consumer Services   \n",
      "\n",
      "                                          Industry Last Update  \n",
      "0                           Computer Manufacturing  2017-04-26  \n",
      "1  Computer Software: Programming, Data Processing  2017-04-24  \n",
      "2  Computer Software: Programming, Data Processing  2017-04-23  \n",
      "3          Computer Software: Prepackaged Software  2017-04-26  \n",
      "4                   Catalog/Specialty Distribution  2017-04-24  \n",
      "<class 'pandas.core.frame.DataFrame'>\n",
      "RangeIndex: 1115 entries, 0 to 1114\n",
      "Data columns (total 8 columns):\n",
      "Stock Symbol             1115 non-null object\n",
      "Company Name             1115 non-null object\n",
      "Last Sale                1115 non-null float64\n",
      "Market Capitalization    1115 non-null float64\n",
      "IPO Year                 593 non-null float64\n",
      "Sector                   1036 non-null object\n",
      "Industry                 1036 non-null object\n",
      "Last Update              1115 non-null datetime64[ns]\n",
      "dtypes: datetime64[ns](1), float64(3), object(4)\n",
      "memory usage: 69.8+ KB\n"
     ]
    }
   ],
   "source": [
    "# Import pandas library\n",
    "import pandas as pd\n",
    "\n",
    "# Import the data\n",
    "nasdaq = pd.read_csv('nasdaq-listings.csv', na_values='NAN', parse_dates=['Last Update'])\n",
    "\n",
    "# Display first 10 rows\n",
    "print(nasdaq.head(5))\n",
    "\n",
    "# Inspect nasdaq\n",
    "nasdaq.info()"
   ]
  },
  {
   "cell_type": "markdown",
   "metadata": {},
   "source": [
    "From an excel file, importing a single sheet :"
   ]
  },
  {
   "cell_type": "code",
   "execution_count": 4,
   "metadata": {},
   "outputs": [
    {
     "name": "stdout",
     "output_type": "stream",
     "text": [
      "  Stock Symbol            Company Name  Last Sale  Market Capitalization  \\\n",
      "0          DDD  3D Systems Corporation      14.48           1.647165e+09   \n",
      "1          MMM              3M Company     188.65           1.127366e+11   \n",
      "2         WBAI         500.com Limited      13.96           5.793129e+08   \n",
      "3         WUBA             58.com Inc.      36.11           5.225238e+09   \n",
      "4          AHC   A.H. Belo Corporation       6.20           1.347351e+08   \n",
      "\n",
      "   IPO Year             Sector  \\\n",
      "0       NaN         Technology   \n",
      "1       NaN        Health Care   \n",
      "2    2013.0  Consumer Services   \n",
      "3    2013.0         Technology   \n",
      "4       NaN  Consumer Services   \n",
      "\n",
      "                                          Industry  \n",
      "0          Computer Software: Prepackaged Software  \n",
      "1                       Medical/Dental Instruments  \n",
      "2            Services-Misc. Amusement & Recreation  \n",
      "3  Computer Software: Programming, Data Processing  \n",
      "4                             Newspapers/Magazines  \n",
      "<class 'pandas.core.frame.DataFrame'>\n",
      "RangeIndex: 3147 entries, 0 to 3146\n",
      "Data columns (total 7 columns):\n",
      "Stock Symbol             3147 non-null object\n",
      "Company Name             3147 non-null object\n",
      "Last Sale                3079 non-null float64\n",
      "Market Capitalization    3147 non-null float64\n",
      "IPO Year                 1361 non-null float64\n",
      "Sector                   2177 non-null object\n",
      "Industry                 2177 non-null object\n",
      "dtypes: float64(3), object(4)\n",
      "memory usage: 172.2+ KB\n"
     ]
    }
   ],
   "source": [
    "# Import the data\n",
    "nyse = pd.read_excel('listings.xlsx', sheetname='nyse', na_values='n/a')\n",
    "\n",
    "# Display the head of the data\n",
    "print(nyse.head())\n",
    "\n",
    "# Inspect the data\n",
    "nyse.info()"
   ]
  },
  {
   "cell_type": "markdown",
   "metadata": {},
   "source": [
    "From an excel file, importing several sheets :"
   ]
  },
  {
   "cell_type": "code",
   "execution_count": 5,
   "metadata": {},
   "outputs": [
    {
     "name": "stdout",
     "output_type": "stream",
     "text": [
      "<class 'pandas.core.frame.DataFrame'>\n",
      "RangeIndex: 3167 entries, 0 to 3166\n",
      "Data columns (total 7 columns):\n",
      "Stock Symbol             3167 non-null object\n",
      "Company Name             3167 non-null object\n",
      "Last Sale                3165 non-null float64\n",
      "Market Capitalization    3167 non-null float64\n",
      "IPO Year                 1386 non-null float64\n",
      "Sector                   2767 non-null object\n",
      "Industry                 2767 non-null object\n",
      "dtypes: float64(3), object(4)\n",
      "memory usage: 173.3+ KB\n"
     ]
    }
   ],
   "source": [
    "# Create pd.ExcelFile() object\n",
    "xls = pd.ExcelFile('listings.xlsx')\n",
    "\n",
    "# Extract sheet names and store in exchanges\n",
    "exchanges = xls.sheet_names\n",
    "\n",
    "# Create listings dictionary with all sheet data\n",
    "listings = pd.read_excel(xls, sheetname=exchanges, na_values='n/a')\n",
    "\n",
    "# Inspect NASDAQ listings\n",
    "listings['nasdaq'].info()"
   ]
  },
  {
   "cell_type": "markdown",
   "metadata": {},
   "source": [
    "Combining several excel sheets into one dataframe :"
   ]
  },
  {
   "cell_type": "code",
   "execution_count": 25,
   "metadata": {},
   "outputs": [
    {
     "name": "stdout",
     "output_type": "stream",
     "text": [
      "<class 'pandas.core.frame.DataFrame'>\n",
      "Int64Index: 6674 entries, 0 to 3146\n",
      "Data columns (total 8 columns):\n",
      "Stock Symbol             6674 non-null object\n",
      "Company Name             6674 non-null object\n",
      "Last Sale                6590 non-null float64\n",
      "Market Capitalization    6674 non-null float64\n",
      "IPO Year                 2852 non-null float64\n",
      "Sector                   5182 non-null object\n",
      "Industry                 5182 non-null object\n",
      "Exchange                 6674 non-null object\n",
      "dtypes: float64(3), object(5)\n",
      "memory usage: 469.3+ KB\n"
     ]
    }
   ],
   "source": [
    "# Create pd.ExcelFile() object\n",
    "xls = pd.ExcelFile('listings.xlsx')\n",
    "\n",
    "# Extract sheet names and store in exchanges\n",
    "exchanges = xls.sheet_names\n",
    "\n",
    "listings = []\n",
    "\n",
    "for item in exchanges:\n",
    "    listing = pd.read_excel(xls, sheetname=item, na_values='n/a')\n",
    "    listing['Exchange'] = item\n",
    "    listings.append(listing)\n",
    "\n",
    "combined_listings = pd.concat(listings)\n",
    "\n",
    "combined_listings.info()"
   ]
  },
  {
   "cell_type": "markdown",
   "metadata": {},
   "source": [
    "Importing data from the web :"
   ]
  },
  {
   "cell_type": "code",
   "execution_count": 32,
   "metadata": {},
   "outputs": [
    {
     "name": "stdout",
     "output_type": "stream",
     "text": [
      "                  Open        High         Low       Close   Adj Close  \\\n",
      "Date                                                                     \n",
      "2015-12-31  107.010002  107.029999  104.820000  105.260002  101.339394   \n",
      "2016-01-04  102.610001  105.370003  102.000000  105.349998  101.426033   \n",
      "2016-01-05  105.750000  105.849998  102.410004  102.709999   98.884369   \n",
      "2016-01-06  100.559998  102.370003   99.870003  100.699997   96.949242   \n",
      "2016-01-07   98.680000  100.129997   96.430000   96.449997   92.857529   \n",
      "\n",
      "              Volume  \n",
      "Date                  \n",
      "2015-12-31  40635300  \n",
      "2016-01-04  67649400  \n",
      "2016-01-05  55791000  \n",
      "2016-01-06  68457400  \n",
      "2016-01-07  81094400  \n",
      "<class 'pandas.core.frame.DataFrame'>\n",
      "DatetimeIndex: 253 entries, 2015-12-31 to 2016-12-30\n",
      "Data columns (total 6 columns):\n",
      "Open         253 non-null float64\n",
      "High         253 non-null float64\n",
      "Low          253 non-null float64\n",
      "Close        253 non-null float64\n",
      "Adj Close    253 non-null float64\n",
      "Volume       253 non-null int64\n",
      "dtypes: float64(5), int64(1)\n",
      "memory usage: 13.8 KB\n"
     ]
    }
   ],
   "source": [
    "# Import DataReader\n",
    "from pandas_datareader.data import DataReader\n",
    "\n",
    "# Import date\n",
    "from datetime import date\n",
    "\n",
    "# Set start and end dates\n",
    "start = date(2016,1,1)\n",
    "end = date(2016,12,31)\n",
    "\n",
    "# Set the ticker\n",
    "ticker = 'AAPL'\n",
    "\n",
    "# Set the data source\n",
    "data_source = 'yahoo'\n",
    "\n",
    "# Import the stock prices\n",
    "stock_prices = DataReader(ticker, data_source, start, end)\n",
    "\n",
    "# Display and inspect the result\n",
    "print(stock_prices.head())\n",
    "stock_prices.info()"
   ]
  },
  {
   "cell_type": "code",
   "execution_count": 46,
   "metadata": {},
   "outputs": [
    {
     "data": {
      "image/png": "[encoded data removed]",
      "text/plain": [
       "<matplotlib.figure.Figure at 0x2265e624d68>"
      ]
     },
     "metadata": {},
     "output_type": "display_data"
    }
   ],
   "source": [
    "# Import matplotlib.pyplot\n",
    "import matplotlib.pyplot as plt\n",
    "\n",
    "fig, ax = plt.subplots(figsize=(10,5))\n",
    "\n",
    "# Set start and end dates\n",
    "start = date(2016,1,1)\n",
    "end = date.today()\n",
    "\n",
    "# Set the ticker and data_source\n",
    "ticker = 'FB'\n",
    "data_source = 'yahoo'\n",
    "\n",
    "# Import the data using DataReader\n",
    "stock_prices = DataReader(ticker, data_source, start, end)\n",
    "\n",
    "# Plot Close\n",
    "stock_prices['Close'].plot(title=ticker)\n",
    "\n",
    "# Show the plot\n",
    "plt.show()"
   ]
  },
  {
   "cell_type": "code",
   "execution_count": null,
   "metadata": {
    "collapsed": true
   },
   "outputs": [],
   "source": []
  }
 ],
 "metadata": {
  "kernelspec": {
   "display_name": "Python 3",
   "language": "python",
   "name": "python3"
  },
  "language_info": {
   "codemirror_mode": {
    "name": "ipython",
    "version": 3
   },
   "file_extension": ".py",
   "mimetype": "text/x-python",
   "name": "python",
   "nbconvert_exporter": "python",
   "pygments_lexer": "ipython3",
   "version": "3.6.2"
  }
 },
 "nbformat": 4,
 "nbformat_minor": 2
}
