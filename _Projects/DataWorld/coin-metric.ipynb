{
 "cells": [
  {
   "cell_type": "markdown",
   "metadata": {},
   "source": [
    "# Coin metric\n",
    "---\n",
    "The dataset and others can be downloaded [here](https://data.world/scuttlemonkey/coin-metrics/workspace/file?filename=btc.csv)."
   ]
  },
  {
   "cell_type": "markdown",
   "metadata": {},
   "source": [
    "## Importing the data"
   ]
  },
  {
   "cell_type": "code",
   "execution_count": 5,
   "metadata": {
    "collapsed": true
   },
   "outputs": [],
   "source": [
    "import pandas as pd\n",
    "df_btc = pd.read_csv('https://query.data.world/s/CXXFV_ZO-VYytj5lY3SOYYkBz8bAaM')"
   ]
  },
  {
   "cell_type": "code",
   "execution_count": 3,
   "metadata": {
    "collapsed": true
   },
   "outputs": [],
   "source": [
    "df_eth = pd.read_csv('https://query.data.world/s/ekom4SB36zJ5qqNaomwj9TAeoej5Jd')"
   ]
  },
  {
   "cell_type": "markdown",
   "metadata": {},
   "source": [
    "## Exploring the data"
   ]
  },
  {
   "cell_type": "code",
   "execution_count": 6,
   "metadata": {},
   "outputs": [
    {
     "data": {
      "text/html": [
       "<div>\n",
       "<style>\n",
       "    .dataframe thead tr:only-child th {\n",
       "        text-align: right;\n",
       "    }\n",
       "\n",
       "    .dataframe thead th {\n",
       "        text-align: left;\n",
       "    }\n",
       "\n",
       "    .dataframe tbody tr th {\n",
       "        vertical-align: top;\n",
       "    }\n",
       "</style>\n",
       "<table border=\"1\" class=\"dataframe\">\n",
       "  <thead>\n",
       "    <tr style=\"text-align: right;\">\n",
       "      <th></th>\n",
       "      <th>date</th>\n",
       "      <th>txVolume(USD)</th>\n",
       "      <th>txCount</th>\n",
       "      <th>marketcap(USD)</th>\n",
       "      <th>price(USD)</th>\n",
       "      <th>exchangeVolume(USD)</th>\n",
       "      <th>generatedCoins</th>\n",
       "      <th>fees</th>\n",
       "    </tr>\n",
       "  </thead>\n",
       "  <tbody>\n",
       "    <tr>\n",
       "      <th>2013-04-28</th>\n",
       "      <td>7.382724e+07</td>\n",
       "      <td>40035.0</td>\n",
       "      <td>1.500520e+09</td>\n",
       "      <td>134.21</td>\n",
       "      <td>0.0</td>\n",
       "      <td>4200.0</td>\n",
       "      <td>31.676858</td>\n",
       "      <td>NaN</td>\n",
       "    </tr>\n",
       "    <tr>\n",
       "      <th>2013-04-29</th>\n",
       "      <td>1.179336e+08</td>\n",
       "      <td>52266.0</td>\n",
       "      <td>1.491160e+09</td>\n",
       "      <td>144.54</td>\n",
       "      <td>0.0</td>\n",
       "      <td>4750.0</td>\n",
       "      <td>37.520348</td>\n",
       "      <td>NaN</td>\n",
       "    </tr>\n",
       "    <tr>\n",
       "      <th>2013-04-30</th>\n",
       "      <td>7.827915e+07</td>\n",
       "      <td>46802.0</td>\n",
       "      <td>1.597780e+09</td>\n",
       "      <td>139.00</td>\n",
       "      <td>0.0</td>\n",
       "      <td>3600.0</td>\n",
       "      <td>53.995612</td>\n",
       "      <td>NaN</td>\n",
       "    </tr>\n",
       "    <tr>\n",
       "      <th>2013-05-01</th>\n",
       "      <td>9.145391e+07</td>\n",
       "      <td>52443.0</td>\n",
       "      <td>1.542820e+09</td>\n",
       "      <td>116.99</td>\n",
       "      <td>0.0</td>\n",
       "      <td>3575.0</td>\n",
       "      <td>36.806000</td>\n",
       "      <td>NaN</td>\n",
       "    </tr>\n",
       "    <tr>\n",
       "      <th>2013-05-02</th>\n",
       "      <td>8.765257e+07</td>\n",
       "      <td>55169.0</td>\n",
       "      <td>1.292190e+09</td>\n",
       "      <td>105.21</td>\n",
       "      <td>0.0</td>\n",
       "      <td>3425.0</td>\n",
       "      <td>54.407916</td>\n",
       "      <td>NaN</td>\n",
       "    </tr>\n",
       "  </tbody>\n",
       "</table>\n",
       "</div>"
      ],
      "text/plain": [
       "                    date  txVolume(USD)       txCount  marketcap(USD)  \\\n",
       "2013-04-28  7.382724e+07        40035.0  1.500520e+09          134.21   \n",
       "2013-04-29  1.179336e+08        52266.0  1.491160e+09          144.54   \n",
       "2013-04-30  7.827915e+07        46802.0  1.597780e+09          139.00   \n",
       "2013-05-01  9.145391e+07        52443.0  1.542820e+09          116.99   \n",
       "2013-05-02  8.765257e+07        55169.0  1.292190e+09          105.21   \n",
       "\n",
       "            price(USD)  exchangeVolume(USD)  generatedCoins  fees  \n",
       "2013-04-28         0.0               4200.0       31.676858   NaN  \n",
       "2013-04-29         0.0               4750.0       37.520348   NaN  \n",
       "2013-04-30         0.0               3600.0       53.995612   NaN  \n",
       "2013-05-01         0.0               3575.0       36.806000   NaN  \n",
       "2013-05-02         0.0               3425.0       54.407916   NaN  "
      ]
     },
     "execution_count": 6,
     "metadata": {},
     "output_type": "execute_result"
    }
   ],
   "source": [
    "df_btc.head()"
   ]
  },
  {
   "cell_type": "code",
   "execution_count": 7,
   "metadata": {},
   "outputs": [
    {
     "data": {
      "text/html": [
       "<div>\n",
       "<style>\n",
       "    .dataframe thead tr:only-child th {\n",
       "        text-align: right;\n",
       "    }\n",
       "\n",
       "    .dataframe thead th {\n",
       "        text-align: left;\n",
       "    }\n",
       "\n",
       "    .dataframe tbody tr th {\n",
       "        vertical-align: top;\n",
       "    }\n",
       "</style>\n",
       "<table border=\"1\" class=\"dataframe\">\n",
       "  <thead>\n",
       "    <tr style=\"text-align: right;\">\n",
       "      <th></th>\n",
       "      <th>date</th>\n",
       "      <th>txVolume(USD)</th>\n",
       "      <th>txCount</th>\n",
       "      <th>marketcap(USD)</th>\n",
       "      <th>price(USD)</th>\n",
       "      <th>exchangeVolume(USD)</th>\n",
       "      <th>generatedCoins</th>\n",
       "      <th>fees</th>\n",
       "    </tr>\n",
       "  </thead>\n",
       "  <tbody>\n",
       "    <tr>\n",
       "      <th>2015-08-07</th>\n",
       "      <td>5.564117e+06</td>\n",
       "      <td>2016.0</td>\n",
       "      <td>0.0</td>\n",
       "      <td>2.770000</td>\n",
       "      <td>164329.0</td>\n",
       "      <td>27437.65625</td>\n",
       "      <td>37.318414</td>\n",
       "      <td>NaN</td>\n",
       "    </tr>\n",
       "    <tr>\n",
       "      <th>2015-08-08</th>\n",
       "      <td>1.266908e+06</td>\n",
       "      <td>2807.0</td>\n",
       "      <td>167911000.0</td>\n",
       "      <td>0.753325</td>\n",
       "      <td>674188.0</td>\n",
       "      <td>27943.43750</td>\n",
       "      <td>68.099970</td>\n",
       "      <td>NaN</td>\n",
       "    </tr>\n",
       "    <tr>\n",
       "      <th>2015-08-09</th>\n",
       "      <td>8.180282e+05</td>\n",
       "      <td>1298.0</td>\n",
       "      <td>42637600.0</td>\n",
       "      <td>0.701897</td>\n",
       "      <td>532170.0</td>\n",
       "      <td>27178.28125</td>\n",
       "      <td>14.098950</td>\n",
       "      <td>NaN</td>\n",
       "    </tr>\n",
       "    <tr>\n",
       "      <th>2015-08-10</th>\n",
       "      <td>1.183753e+06</td>\n",
       "      <td>1999.0</td>\n",
       "      <td>43130000.0</td>\n",
       "      <td>0.708448</td>\n",
       "      <td>405283.0</td>\n",
       "      <td>27817.34375</td>\n",
       "      <td>31.165144</td>\n",
       "      <td>NaN</td>\n",
       "    </tr>\n",
       "    <tr>\n",
       "      <th>2015-08-11</th>\n",
       "      <td>1.589574e+06</td>\n",
       "      <td>4945.0</td>\n",
       "      <td>42796500.0</td>\n",
       "      <td>1.070000</td>\n",
       "      <td>1463100.0</td>\n",
       "      <td>28027.81250</td>\n",
       "      <td>11.311449</td>\n",
       "      <td>NaN</td>\n",
       "    </tr>\n",
       "  </tbody>\n",
       "</table>\n",
       "</div>"
      ],
      "text/plain": [
       "                    date  txVolume(USD)      txCount  marketcap(USD)  \\\n",
       "2015-08-07  5.564117e+06         2016.0          0.0        2.770000   \n",
       "2015-08-08  1.266908e+06         2807.0  167911000.0        0.753325   \n",
       "2015-08-09  8.180282e+05         1298.0   42637600.0        0.701897   \n",
       "2015-08-10  1.183753e+06         1999.0   43130000.0        0.708448   \n",
       "2015-08-11  1.589574e+06         4945.0   42796500.0        1.070000   \n",
       "\n",
       "            price(USD)  exchangeVolume(USD)  generatedCoins  fees  \n",
       "2015-08-07    164329.0          27437.65625       37.318414   NaN  \n",
       "2015-08-08    674188.0          27943.43750       68.099970   NaN  \n",
       "2015-08-09    532170.0          27178.28125       14.098950   NaN  \n",
       "2015-08-10    405283.0          27817.34375       31.165144   NaN  \n",
       "2015-08-11   1463100.0          28027.81250       11.311449   NaN  "
      ]
     },
     "execution_count": 7,
     "metadata": {},
     "output_type": "execute_result"
    }
   ],
   "source": [
    "df_eth.head()"
   ]
  },
  {
   "cell_type": "code",
   "execution_count": null,
   "metadata": {
    "collapsed": true
   },
   "outputs": [],
   "source": []
  }
 ],
 "metadata": {
  "kernelspec": {
   "display_name": "Python 3",
   "language": "python",
   "name": "python3"
  },
  "language_info": {
   "codemirror_mode": {
    "name": "ipython",
    "version": 3
   },
   "file_extension": ".py",
   "mimetype": "text/x-python",
   "name": "python",
   "nbconvert_exporter": "python",
   "pygments_lexer": "ipython3",
   "version": "3.6.2"
  }
 },
 "nbformat": 4,
 "nbformat_minor": 2
}
