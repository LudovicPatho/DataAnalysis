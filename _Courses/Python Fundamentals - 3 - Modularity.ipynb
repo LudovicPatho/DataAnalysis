{
 "cells": [
  {
   "cell_type": "markdown",
   "metadata": {},
   "source": [
    "# Python Fundamentals - Modularity"
   ]
  },
  {
   "cell_type": "code",
   "execution_count": 3,
   "metadata": {
    "collapsed": true
   },
   "outputs": [],
   "source": [
    "def square(x):\n",
    "    return x * x\n"
   ]
  },
  {
   "cell_type": "code",
   "execution_count": 4,
   "metadata": {},
   "outputs": [
    {
     "data": {
      "text/plain": [
       "25"
      ]
     },
     "execution_count": 4,
     "metadata": {},
     "output_type": "execute_result"
    }
   ],
   "source": [
    "square(5)"
   ]
  },
  {
   "cell_type": "code",
   "execution_count": 5,
   "metadata": {
    "collapsed": true
   },
   "outputs": [],
   "source": [
    "import words # The module words.py was created as text file in Jupiter notebook"
   ]
  },
  {
   "cell_type": "code",
   "execution_count": 6,
   "metadata": {},
   "outputs": [
    {
     "name": "stdout",
     "output_type": "stream",
     "text": [
      "It\n",
      "was\n",
      "the\n",
      "best\n",
      "of\n",
      "times\n",
      "it\n",
      "was\n",
      "the\n",
      "worst\n",
      "of\n",
      "times\n",
      "it\n",
      "was\n",
      "the\n",
      "age\n",
      "of\n",
      "wisdom\n",
      "it\n",
      "was\n",
      "the\n",
      "age\n",
      "of\n",
      "foolishness\n",
      "it\n",
      "was\n",
      "the\n",
      "epoch\n",
      "of\n",
      "belief\n",
      "it\n",
      "was\n",
      "the\n",
      "epoch\n",
      "of\n",
      "incredulity\n",
      "it\n",
      "was\n",
      "the\n",
      "season\n",
      "of\n",
      "Light\n",
      "it\n",
      "was\n",
      "the\n",
      "season\n",
      "of\n",
      "Darkness\n",
      "it\n",
      "was\n",
      "the\n",
      "spring\n",
      "of\n",
      "hope\n",
      "it\n",
      "was\n",
      "the\n",
      "winter\n",
      "of\n",
      "despair\n",
      "we\n",
      "had\n",
      "everything\n",
      "before\n",
      "us\n",
      "we\n",
      "had\n",
      "nothing\n",
      "before\n",
      "us\n",
      "we\n",
      "were\n",
      "all\n",
      "going\n",
      "direct\n",
      "to\n",
      "Heaven\n",
      "we\n",
      "were\n",
      "all\n",
      "going\n",
      "direct\n",
      "the\n",
      "other\n",
      "way\n",
      "in\n",
      "short\n",
      "the\n",
      "period\n",
      "was\n",
      "so\n",
      "far\n",
      "like\n",
      "the\n",
      "present\n",
      "period\n",
      "that\n",
      "some\n",
      "of\n",
      "its\n",
      "noisiest\n",
      "authorities\n",
      "insisted\n",
      "on\n",
      "its\n",
      "being\n",
      "received\n",
      "for\n",
      "good\n",
      "or\n",
      "for\n",
      "evil\n",
      "in\n",
      "the\n",
      "superlative\n",
      "degree\n",
      "of\n",
      "comparison\n",
      "only\n"
     ]
    }
   ],
   "source": [
    "words.fetch_words()"
   ]
  },
  {
   "cell_type": "code",
   "execution_count": 7,
   "metadata": {
    "collapsed": true
   },
   "outputs": [],
   "source": [
    "from words import fetch_words as fw"
   ]
  },
  {
   "cell_type": "code",
   "execution_count": 8,
   "metadata": {
    "scrolled": true
   },
   "outputs": [
    {
     "name": "stdout",
     "output_type": "stream",
     "text": [
      "It\n",
      "was\n",
      "the\n",
      "best\n",
      "of\n",
      "times\n",
      "it\n",
      "was\n",
      "the\n",
      "worst\n",
      "of\n",
      "times\n",
      "it\n",
      "was\n",
      "the\n",
      "age\n",
      "of\n",
      "wisdom\n",
      "it\n",
      "was\n",
      "the\n",
      "age\n",
      "of\n",
      "foolishness\n",
      "it\n",
      "was\n",
      "the\n",
      "epoch\n",
      "of\n",
      "belief\n",
      "it\n",
      "was\n",
      "the\n",
      "epoch\n",
      "of\n",
      "incredulity\n",
      "it\n",
      "was\n",
      "the\n",
      "season\n",
      "of\n",
      "Light\n",
      "it\n",
      "was\n",
      "the\n",
      "season\n",
      "of\n",
      "Darkness\n",
      "it\n",
      "was\n",
      "the\n",
      "spring\n",
      "of\n",
      "hope\n",
      "it\n",
      "was\n",
      "the\n",
      "winter\n",
      "of\n",
      "despair\n",
      "we\n",
      "had\n",
      "everything\n",
      "before\n",
      "us\n",
      "we\n",
      "had\n",
      "nothing\n",
      "before\n",
      "us\n",
      "we\n",
      "were\n",
      "all\n",
      "going\n",
      "direct\n",
      "to\n",
      "Heaven\n",
      "we\n",
      "were\n",
      "all\n",
      "going\n",
      "direct\n",
      "the\n",
      "other\n",
      "way\n",
      "in\n",
      "short\n",
      "the\n",
      "period\n",
      "was\n",
      "so\n",
      "far\n",
      "like\n",
      "the\n",
      "present\n",
      "period\n",
      "that\n",
      "some\n",
      "of\n",
      "its\n",
      "noisiest\n",
      "authorities\n",
      "insisted\n",
      "on\n",
      "its\n",
      "being\n",
      "received\n",
      "for\n",
      "good\n",
      "or\n",
      "for\n",
      "evil\n",
      "in\n",
      "the\n",
      "superlative\n",
      "degree\n",
      "of\n",
      "comparison\n",
      "only\n"
     ]
    }
   ],
   "source": [
    "fw()"
   ]
  },
  {
   "cell_type": "markdown",
   "metadata": {
    "collapsed": true
   },
   "source": [
    "## Docstring"
   ]
  },
  {
   "cell_type": "code",
   "execution_count": 9,
   "metadata": {
    "collapsed": true
   },
   "outputs": [],
   "source": [
    "def helloworld():\n",
    "    \"\"\"Print the famous Hello world line!\"\"\"\n",
    "    print(\"Hello world\")"
   ]
  },
  {
   "cell_type": "code",
   "execution_count": 10,
   "metadata": {},
   "outputs": [
    {
     "name": "stdout",
     "output_type": "stream",
     "text": [
      "Hello world\n"
     ]
    }
   ],
   "source": [
    "helloworld()"
   ]
  },
  {
   "cell_type": "code",
   "execution_count": 11,
   "metadata": {},
   "outputs": [
    {
     "name": "stdout",
     "output_type": "stream",
     "text": [
      "Help on function helloworld in module __main__:\n",
      "\n",
      "helloworld()\n",
      "    Print the famous Hello world line!\n",
      "\n"
     ]
    }
   ],
   "source": [
    "help(helloworld)"
   ]
  },
  {
   "cell_type": "markdown",
   "metadata": {},
   "source": [
    "## Summary\n",
    "\n"
   ]
  },
  {
   "cell_type": "markdown",
   "metadata": {},
   "source": [
    "1. Python code is placed in *.py* files called \"modules\"\n",
    "2. Modules can be executed directly with : python module_name.py\n",
    "3. Import module_name\n",
    "4. def function_name(arg1, ...):\n",
    "5. \\__name__\n",
    "6. if \\__name\\__ == \"\\__main\\__\" --> the module is being executed as a script\n",
    "7. Module code is only executed once\n",
    "8. Command line arguments are accessible through sys.argv\n",
    "9. Docstrings delimited by triple quotes --> Create documentation, accessible with the help() function\n",
    "10. Shebang: #!"
   ]
  },
  {
   "cell_type": "code",
   "execution_count": null,
   "metadata": {
    "collapsed": true
   },
   "outputs": [],
   "source": []
  }
 ],
 "metadata": {
  "kernelspec": {
   "display_name": "Python 3",
   "language": "python",
   "name": "python3"
  },
  "language_info": {
   "codemirror_mode": {
    "name": "ipython",
    "version": 3
   },
   "file_extension": ".py",
   "mimetype": "text/x-python",
   "name": "python",
   "nbconvert_exporter": "python",
   "pygments_lexer": "ipython3",
   "version": "3.6.1"
  }
 },
 "nbformat": 4,
 "nbformat_minor": 2
}
